{
 "cells": [
  {
   "cell_type": "code",
   "execution_count": 1,
   "id": "ccbac741",
   "metadata": {},
   "outputs": [],
   "source": [
    "import pandas as pd\n",
    "import numpy as np\n",
    "import sklearn"
   ]
  },
  {
   "cell_type": "code",
   "execution_count": 29,
   "id": "8678a132",
   "metadata": {
    "scrolled": true
   },
   "outputs": [],
   "source": [
    "# Loading and transposing the dataset\n",
    "\n",
    "df = pd.read_csv(\"Train_call.csv\")\n",
    "df = df.T\n",
    "df = df.astype(float)\n",
    "x_train = df.iloc[4:,:]\n"
   ]
  },
  {
   "cell_type": "code",
   "execution_count": 24,
   "id": "53fe0b50",
   "metadata": {
    "scrolled": true
   },
   "outputs": [
    {
     "data": {
      "text/plain": [
       "1           HER2+\n",
       "2             HR+\n",
       "3             HR+\n",
       "4      Triple Neg\n",
       "5      Triple Neg\n",
       "          ...    \n",
       "96          HER2+\n",
       "97            HR+\n",
       "98            HR+\n",
       "99            HR+\n",
       "100         HER2+\n",
       "Name: C2, Length: 100, dtype: object"
      ]
     },
     "execution_count": 24,
     "metadata": {},
     "output_type": "execute_result"
    }
   ],
   "source": [
    "labels = pd.read_csv(\"Train_clinical.csv\")\n",
    "y_train = labels.iloc[1:,1]\n",
    "y_train"
   ]
  },
  {
   "cell_type": "code",
   "execution_count": 22,
   "id": "be144be4",
   "metadata": {},
   "outputs": [
    {
     "data": {
      "text/plain": [
       "0.8"
      ]
     },
     "execution_count": 22,
     "metadata": {},
     "output_type": "execute_result"
    }
   ],
   "source": [
    "from sklearn.metrics import accuracy_score\n",
    "\n",
    "pred = KNN.predict(x_test)\n",
    "\n",
    "accuracy = accuracy_score(y_test, pred)\n",
    "accuracy"
   ]
  },
  {
   "cell_type": "code",
   "execution_count": 33,
   "id": "0e7a110f",
   "metadata": {},
   "outputs": [],
   "source": [
    "from sklearn.model_selection import KFold\n",
    "from sklearn.model_selection import cross_val_score\n"
   ]
  },
  {
   "cell_type": "code",
   "execution_count": 36,
   "id": "a812dc37",
   "metadata": {},
   "outputs": [
    {
     "data": {
      "text/plain": [
       "SVC()"
      ]
     },
     "execution_count": 36,
     "metadata": {},
     "output_type": "execute_result"
    }
   ],
   "source": [
    "from sklearn.svm import SVC\n",
    "\n",
    "SVM = SVC()\n",
    "\n",
    "SVM.fit(x_train,y_train)"
   ]
  },
  {
   "cell_type": "code",
   "execution_count": 40,
   "id": "9ab1c126",
   "metadata": {},
   "outputs": [
    {
     "name": "stdout",
     "output_type": "stream",
     "text": [
      "Accuracy: 0.670 (0.100)\n"
     ]
    }
   ],
   "source": [
    "# SVM CV\n",
    "cv_SVM = KFold(n_splits=10)\n",
    "# evaluate model\n",
    "scores_SVM = cross_val_score(SVM, x_train, y_train, scoring='accuracy', cv=cv, n_jobs=-1)\n",
    "# report performance\n",
    "print('Accuracy: %.3f (%.3f)' % (np.mean(scores_SVM), np.std(scores_SVM)))"
   ]
  },
  {
   "cell_type": "code",
   "execution_count": 42,
   "id": "7eb6a041",
   "metadata": {},
   "outputs": [
    {
     "data": {
      "text/plain": [
       "RandomForestClassifier()"
      ]
     },
     "execution_count": 42,
     "metadata": {},
     "output_type": "execute_result"
    }
   ],
   "source": [
    "from sklearn.ensemble import RandomForestClassifier\n",
    "\n",
    "RF = RandomForestClassifier()\n",
    "\n",
    "RF.fit(x_train,y_train)"
   ]
  },
  {
   "cell_type": "code",
   "execution_count": 43,
   "id": "a721d21c",
   "metadata": {},
   "outputs": [
    {
     "name": "stdout",
     "output_type": "stream",
     "text": [
      "Accuracy: 0.730 (0.119)\n"
     ]
    }
   ],
   "source": [
    "# RF CV\n",
    "cv_RF = KFold(n_splits=10)\n",
    "# evaluate model\n",
    "scores_RF = cross_val_score(RF, x_train, y_train, scoring='accuracy', cv=cv, n_jobs=-1)\n",
    "# report performance\n",
    "print('Accuracy: %.3f (%.3f)' % (np.mean(scores_RF), np.std(scores_RF)))"
   ]
  },
  {
   "cell_type": "code",
   "execution_count": 44,
   "id": "323ff65a",
   "metadata": {},
   "outputs": [
    {
     "data": {
      "text/plain": [
       "MLPClassifier()"
      ]
     },
     "execution_count": 44,
     "metadata": {},
     "output_type": "execute_result"
    }
   ],
   "source": [
    "from sklearn.neural_network import MLPClassifier\n",
    "\n",
    "NN = MLPClassifier()\n",
    "\n",
    "NN.fit(x_train, y_train)"
   ]
  },
  {
   "cell_type": "code",
   "execution_count": 45,
   "id": "9f7933d5",
   "metadata": {},
   "outputs": [
    {
     "name": "stdout",
     "output_type": "stream",
     "text": [
      "Accuracy: 0.690 (0.114)\n"
     ]
    }
   ],
   "source": [
    "# NN CV\n",
    "cv_NN = KFold(n_splits=10)\n",
    "# evaluate model\n",
    "scores_NN = cross_val_score(NN, x_train, y_train, scoring='accuracy', cv=cv, n_jobs=-1)\n",
    "# report performance\n",
    "print('Accuracy: %.3f (%.3f)' % (np.mean(scores_NN), np.std(scores_NN)))"
   ]
  },
  {
   "cell_type": "code",
   "execution_count": null,
   "id": "912a5483",
   "metadata": {},
   "outputs": [],
   "source": []
  }
 ],
 "metadata": {
  "kernelspec": {
   "display_name": "Python 3 (ipykernel)",
   "language": "python",
   "name": "python3"
  },
  "language_info": {
   "codemirror_mode": {
    "name": "ipython",
    "version": 3
   },
   "file_extension": ".py",
   "mimetype": "text/x-python",
   "name": "python",
   "nbconvert_exporter": "python",
   "pygments_lexer": "ipython3",
   "version": "3.9.7"
  }
 },
 "nbformat": 4,
 "nbformat_minor": 5
}
