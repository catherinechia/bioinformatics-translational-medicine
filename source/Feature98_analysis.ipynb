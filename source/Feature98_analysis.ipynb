{
 "cells": [
  {
   "cell_type": "code",
   "execution_count": 12,
   "id": "ece608e7",
   "metadata": {},
   "outputs": [],
   "source": [
    "import pandas as pd\n",
    "import numpy as np\n",
    "import matplotlib.pyplot as plt\n",
    "import seaborn as sn\n",
    "sn.set_style(\"whitegrid\")\n",
    "%matplotlib inline"
   ]
  },
  {
   "cell_type": "code",
   "execution_count": 13,
   "id": "e0e793dd",
   "metadata": {},
   "outputs": [],
   "source": [
    "# Loading and transposing the dataset\n",
    "\n",
    "df = pd.read_csv(\"Train_117.csv\")\n",
    "df = df.T\n",
    "x = df.iloc[5:,:]\n",
    "\n",
    "# Loading the labels\n",
    "labels = pd.read_csv(\"Train_clinical.csv\").iloc[1:,:]\n",
    "y = labels.set_index(\"C1\")"
   ]
  },
  {
   "cell_type": "code",
   "execution_count": 14,
   "id": "9504388d",
   "metadata": {},
   "outputs": [],
   "source": [
    "x_98 = x.iloc[:,97:98]"
   ]
  },
  {
   "cell_type": "code",
   "execution_count": 27,
   "id": "d83c6b24",
   "metadata": {},
   "outputs": [],
   "source": [
    "added = x_98.join(y)\n",
    "added.columns = [\"feature_98\",\"labels\"]"
   ]
  },
  {
   "cell_type": "code",
   "execution_count": 28,
   "id": "746a66be",
   "metadata": {},
   "outputs": [
    {
     "data": {
      "text/html": [
       "<div>\n",
       "<style scoped>\n",
       "    .dataframe tbody tr th:only-of-type {\n",
       "        vertical-align: middle;\n",
       "    }\n",
       "\n",
       "    .dataframe tbody tr th {\n",
       "        vertical-align: top;\n",
       "    }\n",
       "\n",
       "    .dataframe thead th {\n",
       "        text-align: right;\n",
       "    }\n",
       "</style>\n",
       "<table border=\"1\" class=\"dataframe\">\n",
       "  <thead>\n",
       "    <tr style=\"text-align: right;\">\n",
       "      <th></th>\n",
       "      <th>feature_98</th>\n",
       "      <th>labels</th>\n",
       "    </tr>\n",
       "  </thead>\n",
       "  <tbody>\n",
       "    <tr>\n",
       "      <th>Array.129</th>\n",
       "      <td>2</td>\n",
       "      <td>HER2+</td>\n",
       "    </tr>\n",
       "    <tr>\n",
       "      <th>Array.34</th>\n",
       "      <td>0</td>\n",
       "      <td>HR+</td>\n",
       "    </tr>\n",
       "    <tr>\n",
       "      <th>Array.67</th>\n",
       "      <td>-1</td>\n",
       "      <td>HR+</td>\n",
       "    </tr>\n",
       "    <tr>\n",
       "      <th>Array.24</th>\n",
       "      <td>0</td>\n",
       "      <td>Triple Neg</td>\n",
       "    </tr>\n",
       "    <tr>\n",
       "      <th>Array.22</th>\n",
       "      <td>0</td>\n",
       "      <td>Triple Neg</td>\n",
       "    </tr>\n",
       "    <tr>\n",
       "      <th>...</th>\n",
       "      <td>...</td>\n",
       "      <td>...</td>\n",
       "    </tr>\n",
       "    <tr>\n",
       "      <th>Array.10</th>\n",
       "      <td>2</td>\n",
       "      <td>HER2+</td>\n",
       "    </tr>\n",
       "    <tr>\n",
       "      <th>Array.123</th>\n",
       "      <td>0</td>\n",
       "      <td>HR+</td>\n",
       "    </tr>\n",
       "    <tr>\n",
       "      <th>Array.100</th>\n",
       "      <td>0</td>\n",
       "      <td>HR+</td>\n",
       "    </tr>\n",
       "    <tr>\n",
       "      <th>Array.134</th>\n",
       "      <td>1</td>\n",
       "      <td>HR+</td>\n",
       "    </tr>\n",
       "    <tr>\n",
       "      <th>Array.130</th>\n",
       "      <td>2</td>\n",
       "      <td>HER2+</td>\n",
       "    </tr>\n",
       "  </tbody>\n",
       "</table>\n",
       "<p>100 rows × 2 columns</p>\n",
       "</div>"
      ],
      "text/plain": [
       "           feature_98      labels\n",
       "Array.129           2       HER2+\n",
       "Array.34            0         HR+\n",
       "Array.67           -1         HR+\n",
       "Array.24            0  Triple Neg\n",
       "Array.22            0  Triple Neg\n",
       "...               ...         ...\n",
       "Array.10            2       HER2+\n",
       "Array.123           0         HR+\n",
       "Array.100           0         HR+\n",
       "Array.134           1         HR+\n",
       "Array.130           2       HER2+\n",
       "\n",
       "[100 rows x 2 columns]"
      ]
     },
     "execution_count": 28,
     "metadata": {},
     "output_type": "execute_result"
    }
   ],
   "source": [
    "added"
   ]
  },
  {
   "cell_type": "code",
   "execution_count": 29,
   "id": "48685b54",
   "metadata": {},
   "outputs": [
    {
     "data": {
      "image/png": "[encoded data removed]",
      "text/plain": [
       "<Figure size 445.875x360 with 1 Axes>"
      ]
     },
     "metadata": {
      "needs_background": "light"
     },
     "output_type": "display_data"
    }
   ],
   "source": [
    "sn.displot(added, x=\"feature_98\", hue=\"labels\", multiple=\"dodge\")\n",
    "plt.show()"
   ]
  },
  {
   "cell_type": "code",
   "execution_count": null,
   "id": "9fd25d4b",
   "metadata": {},
   "outputs": [],
   "source": []
  }
 ],
 "metadata": {
  "kernelspec": {
   "display_name": "Python 3 (ipykernel)",
   "language": "python",
   "name": "python3"
  },
  "language_info": {
   "codemirror_mode": {
    "name": "ipython",
    "version": 3
   },
   "file_extension": ".py",
   "mimetype": "text/x-python",
   "name": "python",
   "nbconvert_exporter": "python",
   "pygments_lexer": "ipython3",
   "version": "3.9.7"
  }
 },
 "nbformat": 4,
 "nbformat_minor": 5
}
