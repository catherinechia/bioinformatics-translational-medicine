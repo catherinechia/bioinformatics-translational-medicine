{
 "cells": [
  {
   "cell_type": "code",
   "execution_count": 1,
   "id": "ccbac741",
   "metadata": {},
   "outputs": [],
   "source": [
    "import pandas as pd\n",
    "import numpy as np\n",
    "from sklearn.model_selection import KFold\n",
    "from sklearn.ensemble import RandomForestClassifier\n",
    "from sklearn.metrics import accuracy_score"
   ]
  },
  {
   "cell_type": "code",
   "execution_count": 5,
   "id": "8678a132",
   "metadata": {
    "scrolled": true
   },
   "outputs": [],
   "source": [
    "# Loading and transposing the dataset\n",
    "\n",
    "df = pd.read_csv(\"../data/Train_117.csv\")\n",
    "df = df.T\n",
    "x = df.iloc[5:,:]"
   ]
  },
  {
   "cell_type": "code",
   "execution_count": 9,
   "id": "53fe0b50",
   "metadata": {
    "scrolled": true
   },
   "outputs": [],
   "source": [
    "labels = pd.read_csv(\"../data/Train_clinical.csv\")\n",
    "y = labels.iloc[1:,1]"
   ]
  },
  {
   "cell_type": "code",
   "execution_count": 10,
   "id": "2c787e7d",
   "metadata": {
    "scrolled": true
   },
   "outputs": [],
   "source": [
    "## Implementing random search to hyperparameter tuning\n",
    "\n",
    "from sklearn.model_selection import RandomizedSearchCV\n",
    "# Number of trees in random forest\n",
    "n_estimators = [int(x) for x in np.linspace(start = 200, stop = 2000, num = 10)]\n",
    "# Number of features to consider at every split\n",
    "max_features = ['auto', 'sqrt']\n",
    "# Maximum number of levels in tree\n",
    "max_depth = [int(x) for x in np.linspace(10, 110, num = 11)]\n",
    "max_depth.append(None)\n",
    "# Minimum number of samples required to split a node\n",
    "min_samples_split = [2, 5, 10]\n",
    "# Minimum number of samples required at each leaf node\n",
    "min_samples_leaf = [1, 2, 4]\n",
    "# Method of selecting samples for training each tree\n",
    "bootstrap = [True, False]\n",
    "\n",
    "# Create the random grid\n",
    "random_grid = {'n_estimators': n_estimators,\n",
    "               'max_features': max_features,\n",
    "               'max_depth': max_depth,\n",
    "               'min_samples_split': min_samples_split,\n",
    "               'min_samples_leaf': min_samples_leaf,\n",
    "               'bootstrap': bootstrap}"
   ]
  },
  {
   "cell_type": "code",
   "execution_count": 11,
   "id": "13b45bf7",
   "metadata": {},
   "outputs": [
    {
     "ename": "IndexError",
     "evalue": "positional indexers are out-of-bounds",
     "output_type": "error",
     "traceback": [
      "\u001b[0;31m---------------------------------------------------------------------------\u001b[0m",
      "\u001b[0;31mIndexError\u001b[0m                                Traceback (most recent call last)",
      "File \u001b[0;32m~/miniconda3/envs/bioinfo/lib/python3.8/site-packages/pandas/core/indexing.py:1482\u001b[0m, in \u001b[0;36m_iLocIndexer._get_list_axis\u001b[0;34m(self, key, axis)\u001b[0m\n\u001b[1;32m   <a href='file:///Users/catchia/miniconda3/envs/bioinfo/lib/python3.8/site-packages/pandas/core/indexing.py?line=1480'>1481</a>\u001b[0m \u001b[39mtry\u001b[39;00m:\n\u001b[0;32m-> <a href='file:///Users/catchia/miniconda3/envs/bioinfo/lib/python3.8/site-packages/pandas/core/indexing.py?line=1481'>1482</a>\u001b[0m     \u001b[39mreturn\u001b[39;00m \u001b[39mself\u001b[39;49m\u001b[39m.\u001b[39;49mobj\u001b[39m.\u001b[39;49m_take_with_is_copy(key, axis\u001b[39m=\u001b[39;49maxis)\n\u001b[1;32m   <a href='file:///Users/catchia/miniconda3/envs/bioinfo/lib/python3.8/site-packages/pandas/core/indexing.py?line=1482'>1483</a>\u001b[0m \u001b[39mexcept\u001b[39;00m \u001b[39mIndexError\u001b[39;00m \u001b[39mas\u001b[39;00m err:\n\u001b[1;32m   <a href='file:///Users/catchia/miniconda3/envs/bioinfo/lib/python3.8/site-packages/pandas/core/indexing.py?line=1483'>1484</a>\u001b[0m     \u001b[39m# re-raise with different error message\u001b[39;00m\n",
      "File \u001b[0;32m~/miniconda3/envs/bioinfo/lib/python3.8/site-packages/pandas/core/series.py:922\u001b[0m, in \u001b[0;36mSeries._take_with_is_copy\u001b[0;34m(self, indices, axis)\u001b[0m\n\u001b[1;32m    <a href='file:///Users/catchia/miniconda3/envs/bioinfo/lib/python3.8/site-packages/pandas/core/series.py?line=913'>914</a>\u001b[0m \u001b[39m\"\"\"\u001b[39;00m\n\u001b[1;32m    <a href='file:///Users/catchia/miniconda3/envs/bioinfo/lib/python3.8/site-packages/pandas/core/series.py?line=914'>915</a>\u001b[0m \u001b[39mInternal version of the `take` method that sets the `_is_copy`\u001b[39;00m\n\u001b[1;32m    <a href='file:///Users/catchia/miniconda3/envs/bioinfo/lib/python3.8/site-packages/pandas/core/series.py?line=915'>916</a>\u001b[0m \u001b[39mattribute to keep track of the parent dataframe (using in indexing\u001b[39;00m\n\u001b[0;32m   (...)\u001b[0m\n\u001b[1;32m    <a href='file:///Users/catchia/miniconda3/envs/bioinfo/lib/python3.8/site-packages/pandas/core/series.py?line=919'>920</a>\u001b[0m \u001b[39mSee the docstring of `take` for full explanation of the parameters.\u001b[39;00m\n\u001b[1;32m    <a href='file:///Users/catchia/miniconda3/envs/bioinfo/lib/python3.8/site-packages/pandas/core/series.py?line=920'>921</a>\u001b[0m \u001b[39m\"\"\"\u001b[39;00m\n\u001b[0;32m--> <a href='file:///Users/catchia/miniconda3/envs/bioinfo/lib/python3.8/site-packages/pandas/core/series.py?line=921'>922</a>\u001b[0m \u001b[39mreturn\u001b[39;00m \u001b[39mself\u001b[39;49m\u001b[39m.\u001b[39;49mtake(indices\u001b[39m=\u001b[39;49mindices, axis\u001b[39m=\u001b[39;49maxis)\n",
      "File \u001b[0;32m~/miniconda3/envs/bioinfo/lib/python3.8/site-packages/pandas/core/series.py:907\u001b[0m, in \u001b[0;36mSeries.take\u001b[0;34m(self, indices, axis, is_copy, **kwargs)\u001b[0m\n\u001b[1;32m    <a href='file:///Users/catchia/miniconda3/envs/bioinfo/lib/python3.8/site-packages/pandas/core/series.py?line=905'>906</a>\u001b[0m indices \u001b[39m=\u001b[39m ensure_platform_int(indices)\n\u001b[0;32m--> <a href='file:///Users/catchia/miniconda3/envs/bioinfo/lib/python3.8/site-packages/pandas/core/series.py?line=906'>907</a>\u001b[0m new_index \u001b[39m=\u001b[39m \u001b[39mself\u001b[39;49m\u001b[39m.\u001b[39;49mindex\u001b[39m.\u001b[39;49mtake(indices)\n\u001b[1;32m    <a href='file:///Users/catchia/miniconda3/envs/bioinfo/lib/python3.8/site-packages/pandas/core/series.py?line=907'>908</a>\u001b[0m new_values \u001b[39m=\u001b[39m \u001b[39mself\u001b[39m\u001b[39m.\u001b[39m_values\u001b[39m.\u001b[39mtake(indices)\n",
      "File \u001b[0;32m~/miniconda3/envs/bioinfo/lib/python3.8/site-packages/pandas/core/indexes/base.py:1113\u001b[0m, in \u001b[0;36mIndex.take\u001b[0;34m(self, indices, axis, allow_fill, fill_value, **kwargs)\u001b[0m\n\u001b[1;32m   <a href='file:///Users/catchia/miniconda3/envs/bioinfo/lib/python3.8/site-packages/pandas/core/indexes/base.py?line=1111'>1112</a>\u001b[0m \u001b[39mif\u001b[39;00m \u001b[39misinstance\u001b[39m(values, np\u001b[39m.\u001b[39mndarray):\n\u001b[0;32m-> <a href='file:///Users/catchia/miniconda3/envs/bioinfo/lib/python3.8/site-packages/pandas/core/indexes/base.py?line=1112'>1113</a>\u001b[0m     taken \u001b[39m=\u001b[39m algos\u001b[39m.\u001b[39;49mtake(\n\u001b[1;32m   <a href='file:///Users/catchia/miniconda3/envs/bioinfo/lib/python3.8/site-packages/pandas/core/indexes/base.py?line=1113'>1114</a>\u001b[0m         values, indices, allow_fill\u001b[39m=\u001b[39;49mallow_fill, fill_value\u001b[39m=\u001b[39;49m\u001b[39mself\u001b[39;49m\u001b[39m.\u001b[39;49m_na_value\n\u001b[1;32m   <a href='file:///Users/catchia/miniconda3/envs/bioinfo/lib/python3.8/site-packages/pandas/core/indexes/base.py?line=1114'>1115</a>\u001b[0m     )\n\u001b[1;32m   <a href='file:///Users/catchia/miniconda3/envs/bioinfo/lib/python3.8/site-packages/pandas/core/indexes/base.py?line=1115'>1116</a>\u001b[0m \u001b[39melse\u001b[39;00m:\n\u001b[1;32m   <a href='file:///Users/catchia/miniconda3/envs/bioinfo/lib/python3.8/site-packages/pandas/core/indexes/base.py?line=1116'>1117</a>\u001b[0m     \u001b[39m# algos.take passes 'axis' keyword which not all EAs accept\u001b[39;00m\n",
      "File \u001b[0;32m~/miniconda3/envs/bioinfo/lib/python3.8/site-packages/pandas/core/algorithms.py:1445\u001b[0m, in \u001b[0;36mtake\u001b[0;34m(arr, indices, axis, allow_fill, fill_value)\u001b[0m\n\u001b[1;32m   <a href='file:///Users/catchia/miniconda3/envs/bioinfo/lib/python3.8/site-packages/pandas/core/algorithms.py?line=1442'>1443</a>\u001b[0m \u001b[39melse\u001b[39;00m:\n\u001b[1;32m   <a href='file:///Users/catchia/miniconda3/envs/bioinfo/lib/python3.8/site-packages/pandas/core/algorithms.py?line=1443'>1444</a>\u001b[0m     \u001b[39m# NumPy style\u001b[39;00m\n\u001b[0;32m-> <a href='file:///Users/catchia/miniconda3/envs/bioinfo/lib/python3.8/site-packages/pandas/core/algorithms.py?line=1444'>1445</a>\u001b[0m     result \u001b[39m=\u001b[39m arr\u001b[39m.\u001b[39;49mtake(indices, axis\u001b[39m=\u001b[39;49maxis)\n\u001b[1;32m   <a href='file:///Users/catchia/miniconda3/envs/bioinfo/lib/python3.8/site-packages/pandas/core/algorithms.py?line=1445'>1446</a>\u001b[0m \u001b[39mreturn\u001b[39;00m result\n",
      "\u001b[0;31mIndexError\u001b[0m: index 99 is out of bounds for axis 0 with size 99",
      "\nThe above exception was the direct cause of the following exception:\n",
      "\u001b[0;31mIndexError\u001b[0m                                Traceback (most recent call last)",
      "\u001b[1;32m/Users/catchia/_P5B4TM/_As/_github/source/NestedCV trial_with_hub_genes.ipynb Cell 5'\u001b[0m in \u001b[0;36m<cell line: 10>\u001b[0;34m()\u001b[0m\n\u001b[1;32m     <a href='vscode-notebook-cell:/Users/catchia/_P5B4TM/_As/_github/source/NestedCV%20trial_with_hub_genes.ipynb#ch0000004?line=9'>10</a>\u001b[0m \u001b[39mfor\u001b[39;00m train_ix, test_ix \u001b[39min\u001b[39;00m cv_outer\u001b[39m.\u001b[39msplit(x):\n\u001b[1;32m     <a href='vscode-notebook-cell:/Users/catchia/_P5B4TM/_As/_github/source/NestedCV%20trial_with_hub_genes.ipynb#ch0000004?line=10'>11</a>\u001b[0m     \u001b[39m# Train and test split in the inner cross-validation set\u001b[39;00m\n\u001b[1;32m     <a href='vscode-notebook-cell:/Users/catchia/_P5B4TM/_As/_github/source/NestedCV%20trial_with_hub_genes.ipynb#ch0000004?line=11'>12</a>\u001b[0m     x_train, x_test \u001b[39m=\u001b[39m x\u001b[39m.\u001b[39miloc[train_ix, :], x\u001b[39m.\u001b[39miloc[test_ix, :]\n\u001b[0;32m---> <a href='vscode-notebook-cell:/Users/catchia/_P5B4TM/_As/_github/source/NestedCV%20trial_with_hub_genes.ipynb#ch0000004?line=12'>13</a>\u001b[0m     y_train, y_test \u001b[39m=\u001b[39m y\u001b[39m.\u001b[39;49miloc[train_ix], y\u001b[39m.\u001b[39miloc[test_ix]\n\u001b[1;32m     <a href='vscode-notebook-cell:/Users/catchia/_P5B4TM/_As/_github/source/NestedCV%20trial_with_hub_genes.ipynb#ch0000004?line=14'>15</a>\u001b[0m     \u001b[39m# Configure the inner cross-validation procedure\u001b[39;00m\n\u001b[1;32m     <a href='vscode-notebook-cell:/Users/catchia/_P5B4TM/_As/_github/source/NestedCV%20trial_with_hub_genes.ipynb#ch0000004?line=15'>16</a>\u001b[0m     cv_inner \u001b[39m=\u001b[39m KFold(n_splits\u001b[39m=\u001b[39m\u001b[39m3\u001b[39m, shuffle\u001b[39m=\u001b[39m\u001b[39mTrue\u001b[39;00m, random_state\u001b[39m=\u001b[39m\u001b[39m1\u001b[39m)\n",
      "File \u001b[0;32m~/miniconda3/envs/bioinfo/lib/python3.8/site-packages/pandas/core/indexing.py:967\u001b[0m, in \u001b[0;36m_LocationIndexer.__getitem__\u001b[0;34m(self, key)\u001b[0m\n\u001b[1;32m    <a href='file:///Users/catchia/miniconda3/envs/bioinfo/lib/python3.8/site-packages/pandas/core/indexing.py?line=963'>964</a>\u001b[0m axis \u001b[39m=\u001b[39m \u001b[39mself\u001b[39m\u001b[39m.\u001b[39maxis \u001b[39mor\u001b[39;00m \u001b[39m0\u001b[39m\n\u001b[1;32m    <a href='file:///Users/catchia/miniconda3/envs/bioinfo/lib/python3.8/site-packages/pandas/core/indexing.py?line=965'>966</a>\u001b[0m maybe_callable \u001b[39m=\u001b[39m com\u001b[39m.\u001b[39mapply_if_callable(key, \u001b[39mself\u001b[39m\u001b[39m.\u001b[39mobj)\n\u001b[0;32m--> <a href='file:///Users/catchia/miniconda3/envs/bioinfo/lib/python3.8/site-packages/pandas/core/indexing.py?line=966'>967</a>\u001b[0m \u001b[39mreturn\u001b[39;00m \u001b[39mself\u001b[39;49m\u001b[39m.\u001b[39;49m_getitem_axis(maybe_callable, axis\u001b[39m=\u001b[39;49maxis)\n",
      "File \u001b[0;32m~/miniconda3/envs/bioinfo/lib/python3.8/site-packages/pandas/core/indexing.py:1511\u001b[0m, in \u001b[0;36m_iLocIndexer._getitem_axis\u001b[0;34m(self, key, axis)\u001b[0m\n\u001b[1;32m   <a href='file:///Users/catchia/miniconda3/envs/bioinfo/lib/python3.8/site-packages/pandas/core/indexing.py?line=1508'>1509</a>\u001b[0m \u001b[39m# a list of integers\u001b[39;00m\n\u001b[1;32m   <a href='file:///Users/catchia/miniconda3/envs/bioinfo/lib/python3.8/site-packages/pandas/core/indexing.py?line=1509'>1510</a>\u001b[0m \u001b[39melif\u001b[39;00m is_list_like_indexer(key):\n\u001b[0;32m-> <a href='file:///Users/catchia/miniconda3/envs/bioinfo/lib/python3.8/site-packages/pandas/core/indexing.py?line=1510'>1511</a>\u001b[0m     \u001b[39mreturn\u001b[39;00m \u001b[39mself\u001b[39;49m\u001b[39m.\u001b[39;49m_get_list_axis(key, axis\u001b[39m=\u001b[39;49maxis)\n\u001b[1;32m   <a href='file:///Users/catchia/miniconda3/envs/bioinfo/lib/python3.8/site-packages/pandas/core/indexing.py?line=1512'>1513</a>\u001b[0m \u001b[39m# a single integer\u001b[39;00m\n\u001b[1;32m   <a href='file:///Users/catchia/miniconda3/envs/bioinfo/lib/python3.8/site-packages/pandas/core/indexing.py?line=1513'>1514</a>\u001b[0m \u001b[39melse\u001b[39;00m:\n\u001b[1;32m   <a href='file:///Users/catchia/miniconda3/envs/bioinfo/lib/python3.8/site-packages/pandas/core/indexing.py?line=1514'>1515</a>\u001b[0m     key \u001b[39m=\u001b[39m item_from_zerodim(key)\n",
      "File \u001b[0;32m~/miniconda3/envs/bioinfo/lib/python3.8/site-packages/pandas/core/indexing.py:1485\u001b[0m, in \u001b[0;36m_iLocIndexer._get_list_axis\u001b[0;34m(self, key, axis)\u001b[0m\n\u001b[1;32m   <a href='file:///Users/catchia/miniconda3/envs/bioinfo/lib/python3.8/site-packages/pandas/core/indexing.py?line=1481'>1482</a>\u001b[0m     \u001b[39mreturn\u001b[39;00m \u001b[39mself\u001b[39m\u001b[39m.\u001b[39mobj\u001b[39m.\u001b[39m_take_with_is_copy(key, axis\u001b[39m=\u001b[39maxis)\n\u001b[1;32m   <a href='file:///Users/catchia/miniconda3/envs/bioinfo/lib/python3.8/site-packages/pandas/core/indexing.py?line=1482'>1483</a>\u001b[0m \u001b[39mexcept\u001b[39;00m \u001b[39mIndexError\u001b[39;00m \u001b[39mas\u001b[39;00m err:\n\u001b[1;32m   <a href='file:///Users/catchia/miniconda3/envs/bioinfo/lib/python3.8/site-packages/pandas/core/indexing.py?line=1483'>1484</a>\u001b[0m     \u001b[39m# re-raise with different error message\u001b[39;00m\n\u001b[0;32m-> <a href='file:///Users/catchia/miniconda3/envs/bioinfo/lib/python3.8/site-packages/pandas/core/indexing.py?line=1484'>1485</a>\u001b[0m     \u001b[39mraise\u001b[39;00m \u001b[39mIndexError\u001b[39;00m(\u001b[39m\"\u001b[39m\u001b[39mpositional indexers are out-of-bounds\u001b[39m\u001b[39m\"\u001b[39m) \u001b[39mfrom\u001b[39;00m \u001b[39merr\u001b[39;00m\n",
      "\u001b[0;31mIndexError\u001b[0m: positional indexers are out-of-bounds"
     ]
    }
   ],
   "source": [
    "## Nested CV process\n",
    "\n",
    "# Outer CV\n",
    "cv_outer = KFold(n_splits=5, shuffle=True, random_state=1)\n",
    "\n",
    "# Lists for the inner CV results\n",
    "outer_results = list()\n",
    "best_parameters = list()\n",
    "\n",
    "for train_ix, test_ix in cv_outer.split(x):\n",
    "    # Train and test split in the inner cross-validation set\n",
    "    x_train, x_test = x.iloc[train_ix, :], x.iloc[test_ix, :]\n",
    "    y_train, y_test = y.iloc[train_ix], y.iloc[test_ix]\n",
    "    \n",
    "    # Configure the inner cross-validation procedure\n",
    "    cv_inner = KFold(n_splits=3, shuffle=True, random_state=1)\n",
    "    \n",
    "    # Define the model\n",
    "    model = RandomForestClassifier(random_state=1)\n",
    "    \n",
    "    # Define search space\n",
    "    search = RandomizedSearchCV(estimator = model, param_distributions = random_grid, n_iter = 50, cv = cv_inner, random_state=42, n_jobs = -1)\n",
    "    result = search.fit(x_train, y_train)\n",
    "    best_model = result.best_estimator_\n",
    "    \n",
    "    # Evaluate model on the hold out dataset\n",
    "    yhat = best_model.predict(x_test)\n",
    "    \n",
    "    # Evaluate the model\n",
    "    acc = accuracy_score(y_test, yhat)\n",
    "    \n",
    "    # Store the result\n",
    "    outer_results.append(acc)\n",
    "    best_parameters.append(result.best_params_)\n",
    "\n",
    "    # Report progress\n",
    "    print('acc=%.3f, est=%.3f, cfg=%s' % (acc, result.best_score_, result.best_params_))\n"
   ]
  },
  {
   "cell_type": "code",
   "execution_count": 6,
   "id": "91762878",
   "metadata": {},
   "outputs": [
    {
     "name": "stdout",
     "output_type": "stream",
     "text": [
      "Accuracy: 0.820 (0.093)\n",
      "We choose model 1 for the final model, as it showed the highest accuracy\n"
     ]
    }
   ],
   "source": [
    "print('Accuracy: %.3f (%.3f)' % (np.mean(outer_results), np.std(outer_results)))\n",
    "print(\"We choose model {} for the final model, as it showed the highest accuracy\".format(outer_results.index(max(outer_results))+1))"
   ]
  },
  {
   "cell_type": "code",
   "execution_count": null,
   "id": "2c0dbc27",
   "metadata": {},
   "outputs": [],
   "source": []
  }
 ],
 "metadata": {
  "kernelspec": {
   "display_name": "Python 3 (ipykernel)",
   "language": "python",
   "name": "python3"
  },
  "language_info": {
   "codemirror_mode": {
    "name": "ipython",
    "version": 3
   },
   "file_extension": ".py",
   "mimetype": "text/x-python",
   "name": "python",
   "nbconvert_exporter": "python",
   "pygments_lexer": "ipython3",
   "version": "3.8.10"
  }
 },
 "nbformat": 4,
 "nbformat_minor": 5
}
